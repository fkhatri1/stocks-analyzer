{
 "cells": [
  {
   "cell_type": "code",
   "execution_count": 1,
   "id": "60bee6e9",
   "metadata": {},
   "outputs": [],
   "source": [
    "import requests\n",
    "import pandas as pd\n",
    "\n",
    "from datetime import date, datetime, timedelta\n",
    "from src.utils import get_config, Logger\n",
    "\n",
    "pd.set_option('display.max_rows', None)\n",
    "pd.set_option('display.max_columns', None)\n",
    "\n",
    "config = get_config()\n",
    "log = Logger()\n"
   ]
  },
  {
   "cell_type": "code",
   "execution_count": null,
   "id": "e916702c",
   "metadata": {},
   "outputs": [],
   "source": [
    "r = requests.get(f'https://financialmodelingprep.com/api/v3/historical-price-full/{symbol}?apikey=config['credentials']['financialmodelingprep'])"
   ]
  },
  {
   "cell_type": "code",
   "execution_count": 25,
   "id": "f1745381",
   "metadata": {},
   "outputs": [],
   "source": []
  },
  {
   "cell_type": "code",
   "execution_count": 8,
   "id": "6f8585b1",
   "metadata": {},
   "outputs": [],
   "source": [
    "def _to_Date(dt: str) -> datetime.date:\n",
    "    return datetime.strptime(dt, '%Y-%m-%d').date()"
   ]
  }
 ],
 "metadata": {
  "interpreter": {
   "hash": "31f2aee4e71d21fbe5cf8b01ff0e069b9275f58929596ceb00d14d90e3e16cd6"
  },
  "kernelspec": {
   "display_name": "Python 3",
   "language": "python",
   "name": "python3"
  },
  "language_info": {
   "codemirror_mode": {
    "name": "ipython",
    "version": 3
   },
   "file_extension": ".py",
   "mimetype": "text/x-python",
   "name": "python",
   "nbconvert_exporter": "python",
   "pygments_lexer": "ipython3",
   "version": "3.9.4"
  }
 },
 "nbformat": 4,
 "nbformat_minor": 5
}

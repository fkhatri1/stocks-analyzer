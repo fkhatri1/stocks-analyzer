{
 "cells": [
  {
   "cell_type": "code",
   "execution_count": 1,
   "id": "24d80e2d-355d-4e1f-bc2b-51750c86d8b2",
   "metadata": {},
   "outputs": [],
   "source": [
    "import pickle\n",
    "import sklearn"
   ]
  },
  {
   "cell_type": "code",
   "execution_count": 2,
   "id": "fe64c26c-d7a7-4f64-a817-00765d123a5e",
   "metadata": {},
   "outputs": [],
   "source": [
    "# Read the data\n",
    "with open(f\"../data/model_data.pickle\", 'rb') as f:\n",
    "    model_data = pickle.load(f)"
   ]
  },
  {
   "cell_type": "code",
   "execution_count": 3,
   "id": "d86a5e29-bef6-4d7b-9526-5a61e2a3ad3a",
   "metadata": {},
   "outputs": [],
   "source": [
    "# Drop rows where days_since_led is < 0\n",
    "model_data = model_data[model_data['days_since_led'] >= 0]\n",
    "\n",
    "# Drop rows were surprise is NaN\n",
    "model_data = model_data[model_data['surprise'] > -1000]"
   ]
  },
  {
   "cell_type": "code",
   "execution_count": 16,
   "id": "aad75dd4-9247-4d9a-887e-2e9570e9ec62",
   "metadata": {},
   "outputs": [],
   "source": [
    "rsi_threshold = \n",
    "rsi = model_data['rsi'].values <= rsi_threshold\n",
    "rsi_lag1 = model_data['rsi_lag1'].values <= rsi_threshold\n",
    "rsi_lag2 = model_data['rsi_lag2'].values > rsi_threshold\n",
    "rsi_data = model_data[rsi & rsi_lag1 & rsi_lag2]"
   ]
  },
  {
   "cell_type": "code",
   "execution_count": 10,
   "id": "c3339d8e-9143-4249-a3d2-122124ae57ef",
   "metadata": {},
   "outputs": [
    {
     "data": {
      "text/plain": [
       "Index(['date', 'open', 'high', 'low', 'close', 'volume', 'symbol', 'led',\n",
       "       'surprise', 'days_since_led', 'rsi', 'rsi_lag1', 'rsi_lag2',\n",
       "       'num_stdev', 'num_stdev_lag1', 'num_stdev_lag2', '3wk_adj_return'],\n",
       "      dtype='object')"
      ]
     },
     "execution_count": 10,
     "metadata": {},
     "output_type": "execute_result"
    }
   ],
   "source": [
    "rsi_data.columns"
   ]
  },
  {
   "cell_type": "code",
   "execution_count": null,
   "id": "8b52eb93-2c0a-413a-800c-f72410f618d6",
   "metadata": {},
   "outputs": [],
   "source": [
    "import matplotlib.pyplot as plt"
   ]
  },
  {
   "cell_type": "code",
   "execution_count": 23,
   "id": "75dcc52d-d495-4351-85af-88a75f54bfd4",
   "metadata": {},
   "outputs": [
    {
     "name": "stdout",
     "output_type": "stream",
     "text": [
      "RSI Threshold 0: 0 cases, mean return nan\n",
      "RSI Threshold 1: 0 cases, mean return nan\n",
      "RSI Threshold 2: 0 cases, mean return nan\n",
      "RSI Threshold 3: 2 cases, mean return 1.269993610972205\n",
      "RSI Threshold 4: 3 cases, mean return 0.9005023689813417\n",
      "RSI Threshold 5: 9 cases, mean return -0.5141198857335088\n",
      "RSI Threshold 6: 27 cases, mean return 3.7744960962264105\n",
      "RSI Threshold 7: 54 cases, mean return -1.7586246459407413\n",
      "RSI Threshold 8: 94 cases, mean return -1.520046704285901\n",
      "RSI Threshold 9: 141 cases, mean return -4.05503771016566\n",
      "RSI Threshold 10: 228 cases, mean return -3.500480222053573\n",
      "RSI Threshold 11: 327 cases, mean return -2.9499828376063655\n",
      "RSI Threshold 12: 453 cases, mean return -2.7701610273550017\n",
      "RSI Threshold 13: 602 cases, mean return -1.9648284816502062\n",
      "RSI Threshold 14: 818 cases, mean return -1.7661833323488896\n",
      "RSI Threshold 15: 1037 cases, mean return -1.6874332545278212\n",
      "RSI Threshold 16: 1298 cases, mean return -1.549008247112833\n",
      "RSI Threshold 17: 1628 cases, mean return -0.8689032979867783\n",
      "RSI Threshold 18: 1981 cases, mean return -0.838043260271602\n",
      "RSI Threshold 19: 2357 cases, mean return -1.3122102663434168\n",
      "RSI Threshold 20: 2785 cases, mean return -1.251591019850403\n",
      "RSI Threshold 21: 3331 cases, mean return -1.2558148294709266\n",
      "RSI Threshold 22: 3834 cases, mean return -1.0939583600205063\n",
      "RSI Threshold 23: 4410 cases, mean return -0.9469147711411695\n",
      "RSI Threshold 24: 5057 cases, mean return -0.740853272800586\n",
      "RSI Threshold 25: 5744 cases, mean return -0.7198177806747118\n",
      "RSI Threshold 26: 6506 cases, mean return -0.5850668907099081\n",
      "RSI Threshold 27: 7321 cases, mean return -0.4743718675660687\n",
      "RSI Threshold 28: 8156 cases, mean return -0.35909320104360404\n",
      "RSI Threshold 29: 9081 cases, mean return -0.4077856705850708\n",
      "RSI Threshold 30: 10058 cases, mean return -0.3862136594433487\n",
      "RSI Threshold 31: 11099 cases, mean return -0.2667507288743595\n",
      "RSI Threshold 32: 12174 cases, mean return -0.2501646525117132\n",
      "RSI Threshold 33: 13341 cases, mean return -0.20566256800212177\n",
      "RSI Threshold 34: 14507 cases, mean return -0.15373035326413337\n"
     ]
    }
   ],
   "source": [
    "for i in range(0,35):\n",
    "    rsi_threshold = i\n",
    "    rsi = model_data['rsi'].values <= rsi_threshold\n",
    "    rsi_lag1 = model_data['rsi_lag1'].values <= rsi_threshold\n",
    "    rsi_lag2 = model_data['rsi_lag2'].values > rsi_threshold\n",
    "    rsi_data = model_data[rsi & rsi_lag1 & rsi_lag2]\n",
    "\n",
    "    print(f\"RSI Threshold {i}: {len(rsi_data)} cases, mean return {rsi_data['3wk_adj_return'].mean()}\")\n",
    "#     plt.scatter(rsi_data['volume'], rsi_data['3wk_adj_return'])\n",
    "#     plt.xlim([0,2])\n",
    "#     plt.xlabel('Volume')\n",
    "#     plt.ylim([-20,20])\n",
    "#     plt.ylabel(f'% Gain Relative to S&P - RSI t = {i}')\n",
    "\n",
    "#     plt.show()"
   ]
  },
  {
   "cell_type": "code",
   "execution_count": 26,
   "id": "b89be4e7-705d-4eeb-ac44-e13dfad8d466",
   "metadata": {},
   "outputs": [
    {
     "name": "stdout",
     "output_type": "stream",
     "text": [
      "STD Threshold -3.0: 0 cases, mean return nan\n",
      "STD Threshold -2.9: 0 cases, mean return nan\n",
      "STD Threshold -2.8: 0 cases, mean return nan\n",
      "STD Threshold -2.6999999999999997: 0 cases, mean return nan\n",
      "STD Threshold -2.5999999999999996: 0 cases, mean return nan\n",
      "STD Threshold -2.4999999999999996: 0 cases, mean return nan\n",
      "STD Threshold -2.3999999999999995: 0 cases, mean return nan\n",
      "STD Threshold -2.2999999999999994: 0 cases, mean return nan\n",
      "STD Threshold -2.1999999999999993: 1 cases, mean return -1.97647261174522\n",
      "STD Threshold -2.099999999999999: 26 cases, mean return -0.332551966905527\n",
      "STD Threshold -1.9999999999999991: 98 cases, mean return -1.8011293352501556\n",
      "STD Threshold -1.899999999999999: 328 cases, mean return -1.0730122614410518\n",
      "STD Threshold -1.799999999999999: 727 cases, mean return -1.2469305357760068\n",
      "STD Threshold -1.6999999999999988: 1459 cases, mean return -1.4108429441220018\n",
      "STD Threshold -1.5999999999999988: 2546 cases, mean return -1.416252600183689\n",
      "STD Threshold -1.4999999999999987: 4079 cases, mean return -1.2408398394260527\n",
      "STD Threshold -1.3999999999999986: 6050 cases, mean return -0.8378609747580786\n",
      "STD Threshold -1.2999999999999985: 8384 cases, mean return -0.5737384089094871\n",
      "STD Threshold -1.1999999999999984: 11035 cases, mean return -0.38480634717031614\n",
      "STD Threshold -1.0999999999999983: 13800 cases, mean return -0.25916537027560627\n"
     ]
    }
   ],
   "source": [
    "import numpy as np\n",
    "for i in np.arange(-3.0,-1.0, 0.1):\n",
    "    std_threshold = i\n",
    "    std = model_data['num_stdev'].values <= std_threshold\n",
    "    std_lag1 = model_data['num_stdev_lag1'].values <= std_threshold\n",
    "    std_lag2 = model_data['num_stdev_lag2'].values > std_threshold\n",
    "    std_data = model_data[std & std_lag1 & std_lag2]\n",
    "\n",
    "    print(f\"STD Threshold {i}: {len(std_data)} cases, mean return {std_data['3wk_adj_return'].mean()}\")"
   ]
  },
  {
   "cell_type": "code",
   "execution_count": null,
   "id": "df882aeb-d51c-4b7c-a09f-0fa0a3ddaa8e",
   "metadata": {},
   "outputs": [],
   "source": [
    "is_NaN = model_data.isnull()\n",
    "row_has_NaN = is_NaN.any(axis=1)\n",
    "rows_with_NaN = model_data[row_has_NaN]"
   ]
  },
  {
   "cell_type": "code",
   "execution_count": null,
   "id": "6f0425e8-37ff-4888-9165-671a709839e2",
   "metadata": {},
   "outputs": [],
   "source": [
    "# Standardize the data\n",
    "\n",
    "# Drop rows where days_since_led is < 0\n",
    "model_data = model_data[model_data['days_since_led'] >= 0]\n",
    "\n",
    "# Drop rows were surprise is NaN\n",
    "model_data = model_data[model_data['surprise'] >= 0]\n",
    "\n",
    "# Generate label\n",
    "def gen_label(x):\n",
    "    if x > 7:\n",
    "        return 1\n",
    "    else:\n",
    "        return 0\n",
    "labels = [gen_label(x) for x in model_data['3wk_adj_return'].values]\n",
    "\n",
    "# Drop cols we don't want for modeling\n",
    "model_data = model_data.drop(columns=['date', 'open', 'high', 'low', 'close', 'symbol', 'led', '3wk_adj_return'])\n",
    "\n",
    "# Scale rsi\n",
    "model_data['rsi'] = model_data['rsi'] / 100\n",
    "model_data['rsi_lag1'] = model_data['rsi_lag1'] / 100\n",
    "model_data['rsi_lag2'] = model_data['rsi_lag2'] / 100"
   ]
  },
  {
   "cell_type": "code",
   "execution_count": null,
   "id": "d5d43908-b899-4d62-b665-fb718f68f037",
   "metadata": {},
   "outputs": [],
   "source": [
    "hidden_layers = (10,7,5)"
   ]
  },
  {
   "cell_type": "code",
   "execution_count": null,
   "id": "6fd19a53-963e-43e2-8d6a-e884d470c80d",
   "metadata": {},
   "outputs": [],
   "source": [
    "model = sklearn.neural_network.MLPClassifier(hidden_layer_sizes=hidden_layers,\n",
    "                                            activation='relu',\n",
    "                                            max_iter=200)"
   ]
  },
  {
   "cell_type": "code",
   "execution_count": null,
   "id": "c86de32c-4b3b-4797-a27d-68711fa7492b",
   "metadata": {},
   "outputs": [],
   "source": [
    "X_train, X_test, y_train, y_test = sklearn.model_selection.train_test_split(model_data, labels, test_size=.3, random_state=42)"
   ]
  },
  {
   "cell_type": "code",
   "execution_count": null,
   "id": "3ed1dd80-3406-4451-b8dd-ca19253187cf",
   "metadata": {},
   "outputs": [],
   "source": [
    "model.fit(X_train, y_train)"
   ]
  },
  {
   "cell_type": "code",
   "execution_count": null,
   "id": "edcbe596-7ca0-4834-b0c4-0d242ade4eee",
   "metadata": {},
   "outputs": [],
   "source": [
    "model.score(X_test, y_test)"
   ]
  },
  {
   "cell_type": "code",
   "execution_count": null,
   "id": "16fe5bba-823f-4740-b2cb-4977153bdef5",
   "metadata": {},
   "outputs": [],
   "source": [
    "def bool_flag(x):\n",
    "    if x==1:\n",
    "        return True\n",
    "    else:\n",
    "        return False\n"
   ]
  },
  {
   "cell_type": "code",
   "execution_count": null,
   "id": "8ae6eba0-b918-443a-8e97-50bc0d7528a4",
   "metadata": {},
   "outputs": [],
   "source": [
    "model.score(filtered_x, [0]*len(filtered_x))"
   ]
  },
  {
   "cell_type": "code",
   "execution_count": null,
   "id": "2ad33e17-5181-40c7-a513-b4987c9113b7",
   "metadata": {},
   "outputs": [],
   "source": [
    "# only1_filter = [bool_flag(x) for x in y_train]\n",
    "# only1_x = X_train[only1_filter]\n",
    "# model.fit(only1_x, [1]*len(only1_x))\n",
    "\n",
    "label_filter = [not bool_flag(x) for x in y_test]\n",
    "only1_x_test = X_test[label_filter]\n",
    "model.score(only1_x_test, [0]*len(only1_x_test))"
   ]
  },
  {
   "cell_type": "code",
   "execution_count": null,
   "id": "531fddf1-8f1c-4222-8585-7af98c4c1bea",
   "metadata": {},
   "outputs": [],
   "source": [
    "len(only1_x_test)"
   ]
  },
  {
   "cell_type": "code",
   "execution_count": null,
   "id": "1f474ad7-891c-4a77-9e5c-8c3368b8aee1",
   "metadata": {},
   "outputs": [],
   "source": [
    "hidden_layers = (10,7,5)"
   ]
  },
  {
   "cell_type": "code",
   "execution_count": null,
   "id": "8ee09be2-5244-4e72-977c-975a29ed1172",
   "metadata": {},
   "outputs": [],
   "source": [
    "model = sklearn.neural_network.MLPRegressor(hidden_layer_sizes=hidden_layers,\n",
    "                                            activation='relu',\n",
    "                                            max_iter=200)\n",
    "X_train, X_test, y_train, y_test = sklearn.model_selection.train_test_split(model_data, labels, test_size=.3, random_state=42)\n",
    "model.fit(X_train, y_train)"
   ]
  },
  {
   "cell_type": "code",
   "execution_count": null,
   "id": "4f89ef1d-4f1b-40f8-9865-17ab69892ef5",
   "metadata": {},
   "outputs": [],
   "source": [
    "model.score(X_test, y_test)"
   ]
  },
  {
   "cell_type": "code",
   "execution_count": null,
   "id": "b49a52d2-bdd1-4315-9b8e-65259a959834",
   "metadata": {},
   "outputs": [],
   "source": []
  }
 ],
 "metadata": {
  "kernelspec": {
   "display_name": "Python 3",
   "language": "python",
   "name": "python3"
  },
  "language_info": {
   "codemirror_mode": {
    "name": "ipython",
    "version": 3
   },
   "file_extension": ".py",
   "mimetype": "text/x-python",
   "name": "python",
   "nbconvert_exporter": "python",
   "pygments_lexer": "ipython3",
   "version": "3.9.4"
  }
 },
 "nbformat": 4,
 "nbformat_minor": 5
}

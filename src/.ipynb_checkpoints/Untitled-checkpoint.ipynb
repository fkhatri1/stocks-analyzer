{
 "cells": [
  {
   "cell_type": "code",
   "execution_count": 3,
   "id": "9563479c-6099-4d4d-934e-0002f542f350",
   "metadata": {},
   "outputs": [
    {
     "name": "stdout",
     "output_type": "stream",
     "text": [
      "{'finnhub': 'c2d0ksiad3ibl1b87ub0', 'financialmodelingprep': 'e0ed6052477ed6f2212a4fe50b5ac6c0', 'marketstack': 'c4a91bad585fb5b8b45ebb1a98c32378'}\n"
     ]
    }
   ],
   "source": [
    "from collections import namedtuple\n",
    "import requests\n",
    "import pandas as pd\n",
    "import numpy as np\n",
    "import pickle\n",
    "import finnhub\n",
    "from datetime import date, datetime, timedelta\n",
    "from utils import get_config, get_credentials\n",
    "import logging\n",
    "print(get_credentials())"
   ]
  },
  {
   "cell_type": "code",
   "execution_count": 1,
   "id": "f19486c6-4492-46fc-b422-1f782ad30286",
   "metadata": {},
   "outputs": [
    {
     "data": {
      "text/plain": [
       "8096160000"
      ]
     },
     "execution_count": 1,
     "metadata": {},
     "output_type": "execute_result"
    }
   ],
   "source": [
    "from API import API, Profile, Earnings\n",
    "API.get_market_cap(\"EHC\", '2021-07-06')"
   ]
  },
  {
   "cell_type": "code",
   "execution_count": null,
   "id": "3f6ce582-038a-4833-bf1c-37eedab42e3f",
   "metadata": {},
   "outputs": [],
   "source": [
    "from datetime import date, datetime, timedelta\n",
    "from utils import get_config, get_credentials\n",
    "import requests\n",
    "import pandas as pd\n",
    "import numpy as np\n",
    "import finnhub\n",
    "symbol='ALLY'\n",
    "today = date.today()\n",
    "next_year = today + timedelta(weeks=52)\n",
    "fhub = finnhub.Client(api_key=get_credentials()['finnhub'])\n",
    "print(get_credentials()['finnhub'], str(today), str(next_year))\n",
    "_data = fhub.earnings_calendar(_from=str(today), to='2022-03-30', symbol=None)\n",
    "print(_data)\n",
    "_e = _data['earningsCalendar']\n",
    "print(Earnings(_e['date'], \n",
    "                _e['epsActual'], \n",
    "                _e['epsEstimate'], \n",
    "                None,\n",
    "                None) ) "
   ]
  },
  {
   "cell_type": "code",
   "execution_count": 18,
   "id": "f3991ae2-c67c-4460-bc19-bf7683a1d288",
   "metadata": {},
   "outputs": [],
   "source": [
    "def get_market_cap(symbol, _date=str(date.today())):\n",
    "    url = f\"https://financialmodelingprep.com/api/v3/historical-market-capitalization/{symbol}\"\n",
    "    params = {}\n",
    "    params['apikey'] = get_credentials()['financialmodelingprep']\n",
    "    params['limit'] = 1000\n",
    "    r = requests.get(url, params).json()\n",
    "    df = pd.json_normalize(r)\n",
    "    df = df[df['date'] == _date]\n",
    "    try:\n",
    "        cap = int(df['marketCap'].values[0]) / 1_000_000  \n",
    "    except Exception as e:\n",
    "        logging.warn(f\"Could not find market cap of {symbol} on date {_date}. Returning current market cap.)\n",
    "        #profile = get_profile(symbol)\n",
    "        #cap = API.profile.mktCap'\n",
    "        raise e\n",
    "        cap = 10\n",
    "    return cap"
   ]
  },
  {
   "cell_type": "code",
   "execution_count": 2,
   "id": "2a1e9441-3a34-40e7-8acf-ba2dbe87f328",
   "metadata": {},
   "outputs": [
    {
     "data": {
      "text/plain": [
       "[Earnings(date='2021-10-27', estimate=1.06, actual=1.03, surprise=-0.03, surprise_pct=-2.8302),\n",
       " Earnings(date='2021-07-27', estimate=1.01, actual=1.17, surprise=0.16, surprise_pct=15.8416),\n",
       " Earnings(date='2021-04-27', estimate=0.82, actual=1.05, surprise=0.23, surprise_pct=28.0488),\n",
       " Earnings(date='2021-01-26', estimate=0.86, actual=0.93, surprise=0.07, surprise_pct=8.1395),\n",
       " Earnings(date='2020-10-28', estimate=0.74, actual=0.78, surprise=0.04, surprise_pct=5.4054),\n",
       " Earnings(date='2020-07-27', estimate=0.39, actual=0.31, surprise=-0.08, surprise_pct=-20.5128),\n",
       " Earnings(date='2020-04-28', estimate=0.85, actual=0.87, surprise=0.02, surprise_pct=2.3529),\n",
       " Earnings(date='2020-02-06', estimate=0.85, actual=0.85, surprise=0.0, surprise_pct=0.0),\n",
       " Earnings(date='2019-10-28', estimate=0.89, actual=0.93, surprise=0.04, surprise_pct=4.4944),\n",
       " Earnings(date='2019-07-29', estimate=0.97, actual=1.08, surprise=0.11, surprise_pct=11.3402)]"
      ]
     },
     "execution_count": 2,
     "metadata": {},
     "output_type": "execute_result"
    }
   ],
   "source": [
    "API.get_earnings_events('EHC', 10)"
   ]
  },
  {
   "cell_type": "code",
   "execution_count": 2,
   "id": "4b39ba6e-cbee-44c5-8464-e432b8b73468",
   "metadata": {},
   "outputs": [
    {
     "data": {
      "text/plain": [
       "4291"
      ]
     },
     "execution_count": 2,
     "metadata": {},
     "output_type": "execute_result"
    }
   ],
   "source": [
    "from Screener import Screener\n",
    "\n",
    "len(Screener.screen())"
   ]
  },
  {
   "cell_type": "code",
   "execution_count": 3,
   "id": "6879989f-1368-46e0-9f5e-5d0d1eec3865",
   "metadata": {},
   "outputs": [
    {
     "ename": "ImportError",
     "evalue": "cannot import name 'get_rsi' from 'Metrics' (/home/ec2-user/stocks/src/Metrics.py)",
     "output_type": "error",
     "traceback": [
      "\u001b[0;31m---------------------------------------------------------------------------\u001b[0m",
      "\u001b[0;31mImportError\u001b[0m                               Traceback (most recent call last)",
      "\u001b[0;32m<ipython-input-3-687126949d39>\u001b[0m in \u001b[0;36m<module>\u001b[0;34m\u001b[0m\n\u001b[1;32m      1\u001b[0m \u001b[0;32mfrom\u001b[0m \u001b[0mAPI\u001b[0m \u001b[0;32mimport\u001b[0m \u001b[0mAPI\u001b[0m\u001b[0;34m,\u001b[0m \u001b[0mProfile\u001b[0m\u001b[0;34m,\u001b[0m \u001b[0mEarnings\u001b[0m\u001b[0;34m\u001b[0m\u001b[0;34m\u001b[0m\u001b[0m\n\u001b[0;32m----> 2\u001b[0;31m \u001b[0;32mfrom\u001b[0m \u001b[0mMetrics\u001b[0m \u001b[0;32mimport\u001b[0m \u001b[0mget_rsi\u001b[0m\u001b[0;34m\u001b[0m\u001b[0;34m\u001b[0m\u001b[0m\n\u001b[0m\u001b[1;32m      3\u001b[0m \u001b[0md\u001b[0m \u001b[0;34m=\u001b[0m \u001b[0mAPI\u001b[0m\u001b[0;34m.\u001b[0m\u001b[0mget_historical_ohlc\u001b[0m\u001b[0;34m(\u001b[0m\u001b[0;34m\"EHC\"\u001b[0m\u001b[0;34m)\u001b[0m\u001b[0;34m\u001b[0m\u001b[0;34m\u001b[0m\u001b[0m\n\u001b[1;32m      4\u001b[0m \u001b[0mprint\u001b[0m\u001b[0;34m(\u001b[0m\u001b[0md\u001b[0m\u001b[0;34m)\u001b[0m\u001b[0;34m\u001b[0m\u001b[0;34m\u001b[0m\u001b[0m\n",
      "\u001b[0;31mImportError\u001b[0m: cannot import name 'get_rsi' from 'Metrics' (/home/ec2-user/stocks/src/Metrics.py)"
     ]
    }
   ],
   "source": [
    "from API import API, Profile, Earnings\n",
    "from Metrics import get_rsi\n",
    "d = API.get_historical_ohlc(\"EHC\")\n",
    "print(d)"
   ]
  }
 ],
 "metadata": {
  "kernelspec": {
   "display_name": "Python 3",
   "language": "python",
   "name": "python3"
  },
  "language_info": {
   "codemirror_mode": {
    "name": "ipython",
    "version": 3
   },
   "file_extension": ".py",
   "mimetype": "text/x-python",
   "name": "python",
   "nbconvert_exporter": "python",
   "pygments_lexer": "ipython3",
   "version": "3.9.4"
  }
 },
 "nbformat": 4,
 "nbformat_minor": 5
}

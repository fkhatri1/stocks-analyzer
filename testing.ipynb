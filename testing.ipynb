{
 "cells": [
  {
   "cell_type": "code",
   "execution_count": 2,
   "id": "1937bd7a",
   "metadata": {},
   "outputs": [],
   "source": [
    "import requests\n",
    "import pandas as pd\n",
    "import numpy as np\n",
    "\n",
    "from datetime import date, datetime, timedelta\n",
    "from src.utils import get_config, Logger\n",
    "\n",
    "import src.Stock as Stock\n",
    "\n",
    "config = get_config()\n",
    "log = Logger()\n",
    "url = f\"https://financialmodelingprep.com/api/v3\"\n",
    "apikey = f\"&apikey={config['credentials']['financialmodelingprep']}\"\n",
    "\n",
    "pd.set_option('display.max_rows', None)\n",
    "pd.set_option('display.max_columns', None)"
   ]
  },
  {
   "cell_type": "code",
   "execution_count": 7,
   "id": "d1d51063-3eac-446a-87da-b9441d80fb2d",
   "metadata": {},
   "outputs": [
    {
     "data": {
      "text/plain": [
       "'2021-10-20'"
      ]
     },
     "execution_count": 7,
     "metadata": {},
     "output_type": "execute_result"
    }
   ],
   "source": [
    "str(date.today())"
   ]
  },
  {
   "cell_type": "code",
   "execution_count": null,
   "id": "e8b8d1a1-e067-4970-8140-fed3454c6532",
   "metadata": {},
   "outputs": [],
   "source": [
    "Stock.Stock.get_earnings_events(\"COST\")"
   ]
  },
  {
   "cell_type": "code",
   "execution_count": 4,
   "id": "a4f1d394",
   "metadata": {},
   "outputs": [],
   "source": [
    "ee = Stock.Stock.get_earnings_events(\"COST\")\n",
    "a = Stock.Stock.get_prices(ee[0])\n",
    "Stock.Stock.get_rsi(a)\n",
    "Stock.Stock.get_stdev(a)\n",
    "Stock.Stock.get_3wk_return(a)"
   ]
  },
  {
   "cell_type": "code",
   "execution_count": 7,
   "id": "afc714d5-17ad-4088-a737-dbd2af40dd17",
   "metadata": {},
   "outputs": [
    {
     "data": {
      "text/plain": [
       "Index(['date', 'open', 'high', 'low', 'close', 'volume', 'symbol', 'led',\n",
       "       'surprise', 'days_since_led', 'rsi', 'rsi_lag1', 'rsi_lag2',\n",
       "       'num_stdev', 'num_stdev_lag1', 'num_stdev_lag2', '3wk_adj_return'],\n",
       "      dtype='object')"
      ]
     },
     "execution_count": 7,
     "metadata": {},
     "output_type": "execute_result"
    }
   ],
   "source": [
    "a.columns"
   ]
  },
  {
   "cell_type": "code",
   "execution_count": 4,
   "id": "5c78bc23",
   "metadata": {},
   "outputs": [],
   "source": [
    "import pickle\n",
    "# with open(f\"data/model_data.pickle\", 'rb') as f:\n",
    "#     model_data = pickle.load(f)"
   ]
  },
  {
   "cell_type": "code",
   "execution_count": 15,
   "id": "3f7605be-756c-46e5-a283-6fda0a0deb03",
   "metadata": {},
   "outputs": [],
   "source": [
    "model_data_distinct = model_data.drop_duplicates()"
   ]
  },
  {
   "cell_type": "code",
   "execution_count": null,
   "id": "717a9cee-463c-4bfc-8e2d-e97a2d602143",
   "metadata": {},
   "outputs": [],
   "source": [
    "with open(f\"data/model_data.pickle\", 'wb') as f:\n",
    "    pickle.dump(model_data_distinct, f, protocol=pickle.HIGHEST_PROTOCOL)"
   ]
  },
  {
   "cell_type": "code",
   "execution_count": 5,
   "id": "dbdedf76-f9f7-4a0d-a65c-acf56be11e67",
   "metadata": {},
   "outputs": [
    {
     "name": "stdout",
     "output_type": "stream",
     "text": [
      "10/01/2021 05:15:35 INFO: Fetching updated data for SPY from 2005-01-01 to 2022-09-30.\n"
     ]
    }
   ],
   "source": [
    "from_date = \"2005-01-01\"\n",
    "to_date = \"2022-09-30\"\n",
    "log.info(f\"Fetching updated data for SPY from {from_date} to {to_date}.\")\n",
    "r = requests.get(f\"{url}/historical-price-full/SPY?from={from_date}&to={to_date}{apikey}\")\n",
    "r.json()\n",
    "df = pd.json_normalize(r.json())\n",
    "\n",
    "\n",
    "history = df['historical'].values[0]\n",
    "hist_df = pd.json_normalize(history)\n",
    "hist_df = hist_df.drop(['adjClose', 'change', 'unadjustedVolume', 'changePercent', 'vwap', 'label', 'changeOverTime'], axis=1)\n",
    "hist_df = hist_df.sort_values('date', ascending=True)\n",
    "#hist_df.set_index('date', drop=False, inplace=True)\n",
    "\n",
    "close_4wk = hist_df['close'].shift(-20)\n",
    "hist_df['4wk_return'] = 100 * (close_4wk - hist_df['close']) / hist_df['close']\n",
    "\n",
    "close_3wk = hist_df['close'].shift(-15)\n",
    "hist_df['3wk_return'] = 100 * (close_3wk - hist_df['close']) / hist_df['close']\n",
    "\n",
    "close_2wk = hist_df['close'].shift(-10)\n",
    "hist_df['2wk_return'] = 100 * (close_2wk - hist_df['close']) / hist_df['close']\n",
    "\n",
    "close_1wk = hist_df['close'].shift(-5)\n",
    "hist_df['1wk_return'] = 100 * (close_1wk - hist_df['close']) / hist_df['close']\n",
    "\n",
    "spy_dict = {}\n",
    "for idx, row in hist_df.iterrows():\n",
    "    spy_dict[row['date']] = {\"1k_return\": row['1wk_return'], \n",
    "                             \"2k_return\": row['2wk_return'], \n",
    "                             \"3k_return\": row['3wk_return'], \n",
    "                             \"4k_return\": row['4wk_return'] }\n",
    "    \n",
    "with open(f\"data/spy_returns.pickle\", 'wb') as f:\n",
    "    pickle.dump(spy_dict, f, protocol=pickle.HIGHEST_PROTOCOL)"
   ]
  },
  {
   "cell_type": "code",
   "execution_count": null,
   "id": "5b460e9b-fbc6-42ae-945c-0b5ad16f21db",
   "metadata": {},
   "outputs": [],
   "source": [
    "d = pd.to_datetime(a.iloc[0].date) - pd.Timestamp.today()"
   ]
  },
  {
   "cell_type": "code",
   "execution_count": null,
   "id": "d5034f1c-646f-48c6-9720-2ce6f45ea67a",
   "metadata": {},
   "outputs": [],
   "source": [
    "d> timedelta(weeks=13)"
   ]
  },
  {
   "cell_type": "code",
   "execution_count": null,
   "id": "0c6b14de",
   "metadata": {},
   "outputs": [],
   "source": [
    "def _to_Date(dt: str) -> datetime.date:\n",
    "    return datetime.strptime(dt, '%Y-%m-%d').date()"
   ]
  },
  {
   "cell_type": "code",
   "execution_count": null,
   "id": "9aedd3a8-2c3a-46df-85c0-1e2ee2450e80",
   "metadata": {},
   "outputs": [],
   "source": [
    "import pickle"
   ]
  },
  {
   "cell_type": "code",
   "execution_count": 13,
   "id": "6bbb6679-f900-41e7-8504-2f31407ecf06",
   "metadata": {},
   "outputs": [],
   "source": [
    "with open(f\"data/spy_returns.pickle\", 'rb') as f:\n",
    "    earnings_info = pickle.load(f)"
   ]
  },
  {
   "cell_type": "code",
   "execution_count": null,
   "id": "17b0362a-7ec2-4d20-b602-5dcfae1b6f0f",
   "metadata": {},
   "outputs": [],
   "source": [
    "earnings_info"
   ]
  },
  {
   "cell_type": "code",
   "execution_count": null,
   "id": "ebd57078-ae59-476e-ae75-99fcb397b2d3",
   "metadata": {},
   "outputs": [],
   "source": [
    "str((pd.to_datetime('2021-04-28') - timedelta(days=90)).date())"
   ]
  },
  {
   "cell_type": "code",
   "execution_count": 10,
   "id": "30fdab80-0bc7-443e-ae36-bbc6e03e6345",
   "metadata": {},
   "outputs": [
    {
     "data": {
      "text/plain": [
       "'2021-06-22'"
      ]
     },
     "execution_count": 10,
     "metadata": {},
     "output_type": "execute_result"
    }
   ],
   "source": [
    "str( date.today() - timedelta(days=120) )"
   ]
  },
  {
   "cell_type": "code",
   "execution_count": null,
   "id": "0871ac11-5984-45f7-8bb0-a090b1326623",
   "metadata": {},
   "outputs": [],
   "source": [
    "import requests\n",
    "import pandas as pd\n",
    "import pickle\n",
    "from datetime import date, datetime, timedelta\n",
    "from src.utils import get_config, Logger"
   ]
  },
  {
   "cell_type": "code",
   "execution_count": null,
   "id": "682249c9-3174-4099-8ddc-0738e8f31c94",
   "metadata": {},
   "outputs": [],
   "source": [
    "config = get_config()\n",
    "log = Logger()\n",
    "today = date.today()\n",
    "symbol='EGOV'\n",
    "from_date='2020-11-01'"
   ]
  },
  {
   "cell_type": "code",
   "execution_count": null,
   "id": "8e830449-0352-4df2-b9ca-849fc4bb07e1",
   "metadata": {},
   "outputs": [],
   "source": [
    "log.info(f\"Fetching updated data for {symbol}.\")\n",
    "r = requests.get(f\"https://financialmodelingprep.com/api/v3/historical-price-full/{symbol}?from={from_date}&to={today}&apikey={config['credentials']['financialmodelingprep']}\")\n",
    "r.json()\n",
    "df = pd.json_normalize(r.json())\n",
    "history = df['historical'].values[0]\n",
    "hist_df = pd.json_normalize(history)\n",
    "hist_df \n",
    "\n",
    "#= hist_df.drop(['adjClose', 'change', 'unadjustedVolume', 'changePercent', 'vwap', 'label', 'changeOverTime'], axis=1)\n",
    "#hist_df = hist_df.sort_values('date', ascending=True)"
   ]
  },
  {
   "cell_type": "code",
   "execution_count": null,
   "id": "4e8221b2-11f2-4d22-9604-586cbaf80d27",
   "metadata": {},
   "outputs": [],
   "source": [
    "exp_span = 60\n",
    "ema = hist_df['close'].ewm(span=exp_span, adjust=False).mean().round(2)\n",
    "emstd = hist_df['close'].ewm(span=exp_span, adjust=False).std().round(4)\n",
    "boll_low = (ema - 2*emstd).round(2)\n",
    "boll_sig = hist_df['low'] < boll_low\n",
    "boll_sig_lag_1 = boll_sig.shift(1)\n",
    "boll_sig_lag_2 = boll_sig.shift(2)\n",
    "hist_df['boll'] = ~boll_sig & boll_sig_lag_1 & boll_sig_lag_2"
   ]
  },
  {
   "cell_type": "code",
   "execution_count": null,
   "id": "8697d9fa-9058-445b-a7e0-e760f2ab7d64",
   "metadata": {},
   "outputs": [],
   "source": [
    "change = hist_df['close'].diff()\n",
    "up = change.clip(lower=0)\n",
    "down = -1 * change.clip(upper=0)\n",
    "ema_up = up.ewm(span=13, adjust=False).mean()\n",
    "ema_down = down.ewm(span=13, adjust=False).mean()\n",
    "rs = ema_up/ema_down\n",
    "rsi = 100 - (100/(1+rs))\n",
    "rsi_sig = rsi < 25\n",
    "rsi_sig_lag_1 = rsi_sig.shift(1)\n",
    "rsi_sig_lag_2 = rsi_sig.shift(2)\n",
    "hist_df['rsi_sig'] = ~rsi_sig & rsi_sig_lag_1 & rsi_sig_lag_2"
   ]
  },
  {
   "cell_type": "code",
   "execution_count": null,
   "id": "45b8996e-e6ea-4d5d-8183-540b3555b665",
   "metadata": {},
   "outputs": [],
   "source": [
    "ema_sig_span = 4\n",
    "ema_sig = hist_df['close'] < hist_df['close'].ewm(span=ema_sig_span, adjust=False).mean().round(2)\n",
    "ema_sig_lag_1 = ema_sig.shift(1)\n",
    "ema_sig_lag_2 = ema_sig.shift(2)\n",
    "hist_df['ema_sig'] = ~ema_sig & ema_sig_lag_1 & ema_sig_lag_2"
   ]
  },
  {
   "cell_type": "code",
   "execution_count": null,
   "id": "ce94a941-5fbe-472e-8b60-ddd6778e2a70",
   "metadata": {},
   "outputs": [],
   "source": [
    "buy_signal = hist_df[hist_df['boll'] & hist_df['rsi_sig'] & hist_df['ema_sig']]"
   ]
  },
  {
   "cell_type": "code",
   "execution_count": null,
   "id": "eab295ce-e13e-44d5-948b-5d94fd07e23e",
   "metadata": {},
   "outputs": [],
   "source": [
    "buy_dates = buy_signal['date'].values"
   ]
  },
  {
   "cell_type": "code",
   "execution_count": null,
   "id": "73ea2991-4025-4864-bc07-52b589f3c2c8",
   "metadata": {},
   "outputs": [],
   "source": [
    "with open(f\"data/signals.pickle\", 'rb') as f:\n",
    "    signals = pickle.load(f)"
   ]
  },
  {
   "cell_type": "code",
   "execution_count": null,
   "id": "327c039a-437b-4283-b649-32b098208e71",
   "metadata": {},
   "outputs": [],
   "source": [
    "signal_list = []"
   ]
  },
  {
   "cell_type": "code",
   "execution_count": null,
   "id": "eafdac71-d326-4a9b-9598-6b6ea6ad7e04",
   "metadata": {},
   "outputs": [],
   "source": [
    "for symbol, earnings_dates in signals.items():\n",
    "    for earnings_date, signal_dates in earnings_dates.items():\n",
    "        for signal in signal_dates:\n",
    "            if signal > earnings_date:\n",
    "                signal_list.append((symbol, signal))"
   ]
  },
  {
   "cell_type": "code",
   "execution_count": null,
   "id": "f19a5434-41fa-4d17-9508-7c00c5dc8163",
   "metadata": {},
   "outputs": [],
   "source": [
    "def get_open_price(symbol, date):\n",
    "    from_date = date #str((pd.to_datetime(date) - timedelta(days=1)).date())\n",
    "    to_date = str((pd.to_datetime(date) + timedelta(days=3)).date())\n",
    "    \n",
    "    r = requests.get(f\"https://financialmodelingprep.com/api/v3/historical-price-full/{symbol}?from={from_date}&to={to_date}&apikey={config['credentials']['financialmodelingprep']}\")\n",
    "    r.json()\n",
    "    df = pd.json_normalize(r.json())\n",
    "    history = df['historical'].values[0]\n",
    "    hist_df = pd.json_normalize(history)\n",
    "    hist_df = hist_df.sort_values('date', ascending=True)\n",
    "    \n",
    "    if date in hist_df['date'].values:\n",
    "        return hist_df[hist_df['date'] == date]['open'].values[0].round(2)\n",
    "    else:\n",
    "        return hist_df['open'].values[0].round(2)"
   ]
  },
  {
   "cell_type": "code",
   "execution_count": null,
   "id": "43d24d37-ff12-4aa3-859d-119b09956102",
   "metadata": {},
   "outputs": [],
   "source": [
    "get_open_price(\"WMT\", \"2021-08-16\")"
   ]
  },
  {
   "cell_type": "code",
   "execution_count": null,
   "id": "a09ad968-409b-47a3-bfa8-88fcb95eba18",
   "metadata": {},
   "outputs": [],
   "source": [
    "with open(f\"{config['config']['data']}/signal_analysis.pickle\", 'rb') as f:\n",
    "            signal_perf = pickle.load(f)"
   ]
  },
  {
   "cell_type": "code",
   "execution_count": null,
   "id": "5b130369-39a5-4144-880a-1aecfcb6116c",
   "metadata": {},
   "outputs": [],
   "source": [
    "perf = pd.DataFrame(data=signal_perf)"
   ]
  },
  {
   "cell_type": "code",
   "execution_count": null,
   "id": "5a4581c3-6dbb-488e-8de3-a32479244378",
   "metadata": {},
   "outputs": [],
   "source": [
    "perf['surprise'] = ((perf['eps'] - perf['estimated']) / perf['estimated']).round(3) * 100"
   ]
  },
  {
   "cell_type": "code",
   "execution_count": null,
   "id": "7d1cd061-f633-4db9-8381-9db3bfccfd29",
   "metadata": {},
   "outputs": [],
   "source": []
  },
  {
   "cell_type": "code",
   "execution_count": null,
   "id": "0679321e-c400-4bca-a300-0e201d3df5a4",
   "metadata": {},
   "outputs": [],
   "source": [
    "signal_perf.sort_values"
   ]
  },
  {
   "cell_type": "code",
   "execution_count": null,
   "id": "d3cfafa0-a4b5-4ae7-983b-695d140325da",
   "metadata": {},
   "outputs": [],
   "source": [
    "signal_perf['gain_21'].mean()"
   ]
  },
  {
   "cell_type": "code",
   "execution_count": null,
   "id": "e80da39f-783a-4dfe-be7c-abc94e1938c2",
   "metadata": {},
   "outputs": [],
   "source": [
    "perf['gain_28'].mean()"
   ]
  },
  {
   "cell_type": "code",
   "execution_count": null,
   "id": "55a6bbdd-1b91-4503-a66f-7b737cd39d9a",
   "metadata": {},
   "outputs": [],
   "source": [
    "def _filter(x):\n",
    "    if '2020-03' in x:\n",
    "        return False\n",
    "    else:\n",
    "        return True"
   ]
  },
  {
   "cell_type": "code",
   "execution_count": null,
   "id": "b5493e5f-6cd9-41fd-9fa2-fa2899164847",
   "metadata": {},
   "outputs": [],
   "source": [
    "perf['marketCap'] = [get_market_cap(x,y) for x,y in zip(perf['symbol'], perf['signal_date'])]"
   ]
  },
  {
   "cell_type": "code",
   "execution_count": null,
   "id": "260d7f5c-e022-4756-af30-6beb339a4e45",
   "metadata": {},
   "outputs": [],
   "source": [
    "filtered_perf = perf[[_filter(x) for x in perf['signal_date']]].sort_values('gain_21', ascending=False)"
   ]
  },
  {
   "cell_type": "code",
   "execution_count": null,
   "id": "1748748a-be9c-48a1-b177-13d0847a91f1",
   "metadata": {},
   "outputs": [],
   "source": [
    "beats = filtered_perf[filtered_perf['surprise'] < -70]"
   ]
  },
  {
   "cell_type": "code",
   "execution_count": 6,
   "id": "85829483-810a-468d-80f5-dce0c97a0f7b",
   "metadata": {},
   "outputs": [
    {
     "ename": "NameError",
     "evalue": "name 'beats' is not defined",
     "output_type": "error",
     "traceback": [
      "\u001b[0;31m---------------------------------------------------------------------------\u001b[0m",
      "\u001b[0;31mNameError\u001b[0m                                 Traceback (most recent call last)",
      "\u001b[0;32m<ipython-input-6-160d767669d9>\u001b[0m in \u001b[0;36m<module>\u001b[0;34m\u001b[0m\n\u001b[0;32m----> 1\u001b[0;31m \u001b[0mbeats\u001b[0m\u001b[0;34m[\u001b[0m\u001b[0;34m'gain_21'\u001b[0m\u001b[0;34m]\u001b[0m\u001b[0;34m.\u001b[0m\u001b[0mmean\u001b[0m\u001b[0;34m(\u001b[0m\u001b[0;34m)\u001b[0m\u001b[0;34m\u001b[0m\u001b[0;34m\u001b[0m\u001b[0m\n\u001b[0m",
      "\u001b[0;31mNameError\u001b[0m: name 'beats' is not defined"
     ]
    }
   ],
   "source": [
    "beats['gain_21'].mean()"
   ]
  },
  {
   "cell_type": "code",
   "execution_count": null,
   "id": "487c2744-a855-4a57-a55b-e5629d845ce5",
   "metadata": {},
   "outputs": [],
   "source": [
    "import matplotlib.pyplot as plt\n",
    "\n",
    "plt.scatter(beats['surprise'], beats['gain_21'])\n",
    "plt.xlim([-100,0])\n",
    "plt.xlabel('surprise')\n",
    "plt.ylim([-25,25])\n",
    "plt.ylabel('% Gain Relative to S&P')\n",
    "\n",
    "plt.show()"
   ]
  },
  {
   "cell_type": "code",
   "execution_count": null,
   "id": "4d32d531-b3ab-47d9-bc11-b852fd5c2422",
   "metadata": {},
   "outputs": [],
   "source": [
    "def get_market_cap(symbol, date):\n",
    "    r = requests.get(f\"https://financialmodelingprep.com/api/v3/historical-market-capitalization/{symbol}?limit=1000&apikey={config['credentials']['financialmodelingprep']}\")\n",
    "    r.json()\n",
    "    df = pd.json_normalize(r.json())\n",
    "    df = df[df['date'] == date]\n",
    "    try:\n",
    "        cap = int(df['marketCap'].values[0]) / 1000000000  \n",
    "    except Exception as e:\n",
    "        cap = None\n",
    "        \n",
    "    return cap"
   ]
  },
  {
   "cell_type": "code",
   "execution_count": 19,
   "id": "baf7af86-b6ae-438a-ad60-34c6f35cad8d",
   "metadata": {},
   "outputs": [],
   "source": [
    "url = \"https://financialmodelingprep.com/api/v3/profile/\"\n",
    "symbol='KR'\n",
    "apikey='?apikey=e0ed6052477ed6f2212a4fe50b5ac6c0'\n",
    "r = requests.get(f\"{url}{symbol}?limit=1000&apikey={config['credentials']['financialmodelingprep']}\")\n",
    "a=r.json()[0]\n",
    "#df = pd.json_normalize(r.json())\n",
    "#df\n"
   ]
  },
  {
   "cell_type": "code",
   "execution_count": 20,
   "id": "748f599b-7035-4fa5-900d-a37aa976e1be",
   "metadata": {},
   "outputs": [
    {
     "data": {
      "text/plain": [
       "{'symbol': 'KR',\n",
       " 'price': 39.07,\n",
       " 'beta': 0.439682,\n",
       " 'volAvg': 7559120,\n",
       " 'mktCap': 29053937664,\n",
       " 'lastDiv': 0.75,\n",
       " 'range': '30.35-47.99',\n",
       " 'changes': -0.139999,\n",
       " 'companyName': 'The Kroger Co.',\n",
       " 'currency': 'USD',\n",
       " 'cik': '0000056873',\n",
       " 'isin': 'US5010441013',\n",
       " 'cusip': '501044101',\n",
       " 'exchange': 'New York Stock Exchange',\n",
       " 'exchangeShortName': 'NYSE',\n",
       " 'industry': 'Grocery Stores',\n",
       " 'website': 'http://www.thekrogerco.com',\n",
       " 'description': \"The Kroger Co. operates as a retailer in the United States. The company operates supermarkets, multi-department stores, marketplace stores, and price impact warehouse stores. Its combination food and drug stores offer natural food and organic sections, pharmacies, general merchandise, pet centers, fresh seafood, and organic produce; and multi-department stores provide apparel, home fashion and furnishings, outdoor living, electronics, automotive products, and toys. The company's marketplace stores offer full-service grocery, pharmacy, health and beauty care departments, and perishable goods, as well as general merchandise, including apparel, home goods, and toys; and price impact warehouse stores provides grocery, and health and beauty care items, as well as meat, dairy, baked goods, and fresh produce items. It also manufactures and processes food products for sale in its supermarkets; and sells fuel through 1,567 fuel centers. As of March 25, 2020, the company operated 2,757 retail food stores under various banner names in 35 states and the District of Columbia, as well as an online retail store. The Kroger Co. has a strategic partnership with Ocado Solutions to construct three new customer fulfillment centers in the Great Lakes, Pacific Northwest, and West regions. The company was founded in 1883 and is based in Cincinnati, Ohio.\",\n",
       " 'ceo': 'Mr. William McMullen',\n",
       " 'sector': 'Consumer Defensive',\n",
       " 'country': 'US',\n",
       " 'fullTimeEmployees': '500000',\n",
       " 'phone': '15137624000',\n",
       " 'address': '1014 Vine St',\n",
       " 'city': 'Cincinnati',\n",
       " 'state': 'OHIO',\n",
       " 'zip': '45202',\n",
       " 'dcfDiff': None,\n",
       " 'dcf': 41.2301,\n",
       " 'image': 'https://financialmodelingprep.com/image-stock/KR.png',\n",
       " 'ipoDate': '1928-01-26',\n",
       " 'defaultImage': False,\n",
       " 'isEtf': False,\n",
       " 'isActivelyTrading': True,\n",
       " 'isAdr': False,\n",
       " 'isFund': False}"
      ]
     },
     "execution_count": 20,
     "metadata": {},
     "output_type": "execute_result"
    }
   ],
   "source": [
    "a"
   ]
  },
  {
   "cell_type": "code",
   "execution_count": null,
   "id": "78a88eb3-284c-4e48-8e30-2e9632cfadfd",
   "metadata": {},
   "outputs": [],
   "source": [
    "signal_perf['marketCap'] = [get_market_cap(s,d) for s,d in (zip(signal_perf['symbol'].values, signal_perf['date'].values))]"
   ]
  },
  {
   "cell_type": "code",
   "execution_count": null,
   "id": "b38ab6b9-469e-4b76-af5f-c1f423011a99",
   "metadata": {},
   "outputs": [],
   "source": [
    "signal_perf.sort_values('marketCap', ascending=False)"
   ]
  },
  {
   "cell_type": "code",
   "execution_count": null,
   "id": "b91e11fd-7ed9-412c-888c-d1564294f56c",
   "metadata": {},
   "outputs": [],
   "source": [
    "import matplotlib.pyplot as plt\n",
    "\n",
    "plt.scatter(signal_perf['marketCap'], signal_perf['gain_21'])\n",
    "plt.xlim([0,100])\n",
    "plt.xlabel('Market Cap (Billions)')\n",
    "plt.ylim([-20,20])\n",
    "plt.ylabel('% Gain Relative to S&P')\n",
    "\n",
    "plt.show()"
   ]
  }
 ],
 "metadata": {
  "interpreter": {
   "hash": "31f2aee4e71d21fbe5cf8b01ff0e069b9275f58929596ceb00d14d90e3e16cd6"
  },
  "kernelspec": {
   "display_name": "Python 3",
   "language": "python",
   "name": "python3"
  },
  "language_info": {
   "codemirror_mode": {
    "name": "ipython",
    "version": 3
   },
   "file_extension": ".py",
   "mimetype": "text/x-python",
   "name": "python",
   "nbconvert_exporter": "python",
   "pygments_lexer": "ipython3",
   "version": "3.9.4"
  }
 },
 "nbformat": 4,
 "nbformat_minor": 5
}

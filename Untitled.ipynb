{
 "cells": [
  {
   "cell_type": "code",
   "execution_count": 2,
   "id": "ed345608-2390-4111-98c8-99a925b9b007",
   "metadata": {},
   "outputs": [],
   "source": [
    "import finnhub\n",
    "fhub = finnhub.Client(api_key=\"c2d0ksiad3ibl1b87ub0\")"
   ]
  },
  {
   "cell_type": "code",
   "execution_count": 10,
   "id": "609aed6e-d523-4dd5-a330-203462d5810e",
   "metadata": {},
   "outputs": [
    {
     "data": {
      "text/plain": [
       "{'earningsCalendar': [{'date': '2021-11-22',\n",
       "   'epsActual': None,\n",
       "   'epsEstimate': -0.3608,\n",
       "   'hour': 'bmo',\n",
       "   'quarter': 3,\n",
       "   'revenueActual': None,\n",
       "   'revenueEstimate': 422010275,\n",
       "   'symbol': 'CLOV',\n",
       "   'year': 2021}]}"
      ]
     },
     "execution_count": 10,
     "metadata": {},
     "output_type": "execute_result"
    }
   ],
   "source": [
    "fhub.earnings_calendar(_from='2021-10-27', to='2022-12-31', symbol=\"CLOV\")"
   ]
  },
  {
   "cell_type": "code",
   "execution_count": 11,
   "id": "be510722-6193-4b3b-a525-da502df3af5d",
   "metadata": {},
   "outputs": [],
   "source": [
    "from datetime import date, datetime, timedelta"
   ]
  },
  {
   "cell_type": "code",
   "execution_count": 14,
   "id": "7979f14a-cbc5-4f3a-b92d-348d7c6b83ca",
   "metadata": {},
   "outputs": [
    {
     "data": {
      "text/plain": [
       "'2021-10-29'"
      ]
     },
     "execution_count": 14,
     "metadata": {},
     "output_type": "execute_result"
    }
   ],
   "source": [
    "str(date.today())"
   ]
  },
  {
   "cell_type": "code",
   "execution_count": 16,
   "id": "2ee750fa-7267-4e7a-acc2-aa2f659b8983",
   "metadata": {},
   "outputs": [
    {
     "data": {
      "text/plain": [
       "datetime.date(2022, 10, 28)"
      ]
     },
     "execution_count": 16,
     "metadata": {},
     "output_type": "execute_result"
    }
   ],
   "source": [
    "date.today() + timedelta(weeks=52)"
   ]
  }
 ],
 "metadata": {
  "kernelspec": {
   "display_name": "Python 3",
   "language": "python",
   "name": "python3"
  },
  "language_info": {
   "codemirror_mode": {
    "name": "ipython",
    "version": 3
   },
   "file_extension": ".py",
   "mimetype": "text/x-python",
   "name": "python",
   "nbconvert_exporter": "python",
   "pygments_lexer": "ipython3",
   "version": "3.9.4"
  }
 },
 "nbformat": 4,
 "nbformat_minor": 5
}
